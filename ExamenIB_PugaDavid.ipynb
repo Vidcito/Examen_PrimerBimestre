{
 "cells": [
  {
   "cell_type": "markdown",
   "id": "9971571c",
   "metadata": {
    "editable": true,
    "slideshow": {
     "slide_type": "slide"
    },
    "tags": []
   },
   "source": [
    "# Examen IB: Conversión un número decimal a su interpretación en IEEE 754 de 32 bits en Python\n",
    "\n",
    "## David Alejandro Puga Novoa\n",
    "\n",
    "### GR2CC"
   ]
  },
  {
   "cell_type": "markdown",
   "id": "d17dc309-1ecb-4abf-afa1-74b433e53bb2",
   "metadata": {
    "editable": true,
    "slideshow": {
     "slide_type": "slide"
    },
    "tags": []
   },
   "source": [
    "Realizar un programa (Python/Java) que permita representar en formato IEEE de 32 bits de coma flotante un número decimal. \n",
    "\n",
    "Se requiere:\n",
    "\n",
    "1. Código Fuente del programa (*.py, *.ipynb, *.java)\n",
    "\n",
    "2. Presentación Jupyter-Rise o Org-Emacs que indique las partes fundamentales del código y su ejecución.\n",
    "\n",
    "3. Presentación oral.\n",
    "\n",
    "4. El programa ha de imprimir:\n",
    "\n",
    "- a. el número dado\n",
    "\n",
    "- b. el bit del signo\n",
    "\n",
    "- c. el exponente\n",
    "\n",
    "- d. el exponente sesgado\n",
    "\n",
    "- e. la mantisa\n",
    "\n",
    "- f. el equivalente binario en formato IEEE de 32 bits\n",
    "\n",
    "- g. el equivalente hexadecimal (puede usar una librería para este punto)\n",
    "\n",
    "Acontinuación, se mostrará como se realizo el código y la explicación de cada función con un ejemplo."
   ]
  },
  {
   "cell_type": "markdown",
   "id": "7d502baf",
   "metadata": {
    "editable": true,
    "slideshow": {
     "slide_type": "slide"
    },
    "tags": []
   },
   "source": [
    "## Función decimal_a_binario\n",
    "\n",
    "Convierte un número decimal en su representación binaria, sin incluir el signo. Retorna el signo y la representación binaria."
   ]
  },
  {
   "cell_type": "code",
   "execution_count": 5,
   "id": "be21d754",
   "metadata": {
    "editable": true,
    "slideshow": {
     "slide_type": "subslide"
    },
    "tags": []
   },
   "outputs": [],
   "source": [
    "def decimal_a_binario(decimal):\n",
    "    if decimal == 0:\n",
    "        return '0'\n",
    "    signo = '0' if decimal > 0 else '1'\n",
    "    decimal = abs(decimal)\n",
    "    parte_entera = int(decimal)\n",
    "    parte_fraccionaria = decimal - parte_entera\n",
    "\n",
    "    # Convertir parte entera a binario\n",
    "    binario_entero = ''\n",
    "    if parte_entera == 0:\n",
    "        binario_entero = '0'\n",
    "    while parte_entera > 0:\n",
    "        binario_entero = str(parte_entera % 2) + binario_entero\n",
    "        parte_entera = parte_entera // 2\n",
    "\n",
    "    # Convertir parte fraccionaria a binario\n",
    "    binario_fraccionario = ''\n",
    "    while parte_fraccionaria > 0:\n",
    "        parte_fraccionaria *= 2\n",
    "        if parte_fraccionaria >= 1:\n",
    "            binario_fraccionario += '1'\n",
    "            parte_fraccionaria -= 1\n",
    "        else:\n",
    "            binario_fraccionario += '0'\n",
    "        if len(binario_fraccionario) > 23:\n",
    "            break\n",
    "\n",
    "    binario = binario_entero + '.' + binario_fraccionario\n",
    "    return signo, binario"
   ]
  },
  {
   "cell_type": "code",
   "execution_count": null,
   "id": "1dbef379-5aeb-4912-8fdb-8ed3965e9278",
   "metadata": {},
   "outputs": [],
   "source": []
  },
  {
   "cell_type": "markdown",
   "id": "d90dd16f-9183-4eb9-81b3-46bf4f48a05c",
   "metadata": {
    "editable": true,
    "slideshow": {
     "slide_type": "subslide"
    },
    "tags": []
   },
   "source": [
    "### Explicación\n",
    "1. **Verificar si el número es cero**: Si el decimal es 0, la función retorna '0'.\n",
    "2. **Determinar el signo**: Si el número es positivo, el signo es '0'. Si es negativo, el signo es '1'.\n",
    "3. **Convertir la parte entera a binario**: Se convierte la parte entera del número decimal a su representación binaria dividiendo sucesivamente por 2 y acumulando el resto.\n",
    "4. **Convertir la parte fraccionaria a binario**: Se multiplica la parte fraccionaria por 2 y se acumulan los dígitos binarios resultantes hasta obtener 23 bits, porque ese es el tamaño de la mantisa para 32 bits.\n",
    "5. **Combinar parte entera y fraccionaria**: Se combinan ambas partes separadas por un punto decimal ('.')."
   ]
  },
  {
   "cell_type": "markdown",
   "id": "aad7316f",
   "metadata": {
    "editable": true,
    "slideshow": {
     "slide_type": "subslide"
    },
    "tags": []
   },
   "source": [
    "### Ejemplo\n",
    "- Ejemplo para el número -10.75."
   ]
  },
  {
   "cell_type": "code",
   "execution_count": 2,
   "id": "cf4e087e-2a04-4f8f-950b-0d024fff0059",
   "metadata": {
    "editable": true,
    "slideshow": {
     "slide_type": "subslide"
    },
    "tags": []
   },
   "outputs": [
    {
     "data": {
      "text/plain": [
       "('1', '1010.11')"
      ]
     },
     "execution_count": 2,
     "metadata": {},
     "output_type": "execute_result"
    }
   ],
   "source": [
    "decimal_a_binario(-10.75)"
   ]
  },
  {
   "cell_type": "markdown",
   "id": "f62e0e1c",
   "metadata": {
    "editable": true,
    "slideshow": {
     "slide_type": "slide"
    },
    "tags": []
   },
   "source": [
    "## Función normalizar_binario\n",
    "\n",
    "Normaliza la representación binaria que se obtuvo, calculando el exponente y la mantisa."
   ]
  },
  {
   "cell_type": "code",
   "execution_count": 6,
   "id": "d373200f",
   "metadata": {
    "editable": true,
    "slideshow": {
     "slide_type": "subslide"
    },
    "tags": []
   },
   "outputs": [],
   "source": [
    "def normalizar_binario(binario):\n",
    "    if '.' not in binario:\n",
    "        binario += '.0'\n",
    "    \n",
    "    parte_entera, parte_fraccionaria = binario.split('.')\n",
    "    if '1' in parte_entera:\n",
    "        exponente = len(parte_entera) - 1\n",
    "        mantisa = parte_entera[1:] + parte_fraccionaria\n",
    "    else:\n",
    "        exponente = -parte_fraccionaria.find('1') - 1\n",
    "        mantisa = parte_fraccionaria[parte_fraccionaria.find('1') + 1:]\n",
    "\n",
    "    return exponente, mantisa"
   ]
  },
  {
   "cell_type": "markdown",
   "id": "d4e8bea5",
   "metadata": {
    "editable": true,
    "slideshow": {
     "slide_type": "subslide"
    },
    "tags": []
   },
   "source": [
    "### Explicación\n",
    "1. **Asegurarse de que hay un punto decimal**: Si no hay un punto decimal en la representación binaria, se añade '.0'.\n",
    "2. **Separar la parte entera y la fraccionaria**: Se divide la cadena binaria en parte entera y parte fraccionaria usando el punto decimal como separador.\n",
    "3. **Calcular el exponente y la mantisa**: \n",
    "   - Si la parte entera contiene un '1', el exponente es la longitud de la parte entera menos uno, y la mantisa es la parte entera (sin el primer dígito) concatenada con la parte fraccionaria.\n",
    "   - Si la parte entera no contiene un '1', se busca el primer '1' en la parte fraccionaria. El exponente es el negativo de la posición de ese '1' menos uno, y la mantisa es la parte fraccionaria después del primer '1'."
   ]
  },
  {
   "cell_type": "markdown",
   "id": "b83d0679",
   "metadata": {
    "editable": true,
    "slideshow": {
     "slide_type": "subslide"
    },
    "tags": []
   },
   "source": [
    "### Ejemplo\n",
    "\n",
    "- Continuemos con el ejemplo del número -10.75. Donde su binario sin signo es 1010.11. Entonces procedemos a normalizarlo."
   ]
  },
  {
   "cell_type": "code",
   "execution_count": 4,
   "id": "19e2b965",
   "metadata": {
    "editable": true,
    "slideshow": {
     "slide_type": "subslide"
    },
    "tags": []
   },
   "outputs": [
    {
     "data": {
      "text/plain": [
       "(3, '01011')"
      ]
     },
     "execution_count": 4,
     "metadata": {},
     "output_type": "execute_result"
    }
   ],
   "source": [
    "normalizar_binario('1010.11')"
   ]
  },
  {
   "cell_type": "markdown",
   "id": "97315b04",
   "metadata": {
    "editable": true,
    "slideshow": {
     "slide_type": "slide"
    },
    "tags": []
   },
   "source": [
    "## Función obtener_exponente_y_mantisa\n",
    "\n",
    "Obtiene el exponente normalizado, el sesgo del exponente y ajusta la mantisa a 23 bits."
   ]
  },
  {
   "cell_type": "code",
   "execution_count": 7,
   "id": "13be2f55",
   "metadata": {
    "editable": true,
    "slideshow": {
     "slide_type": "subslide"
    },
    "tags": []
   },
   "outputs": [],
   "source": [
    "def obtener_exponente_y_mantisa(binario):\n",
    "    exponente, mantisa = normalizar_binario(binario)\n",
    "    sesgo_exponente = exponente + 127\n",
    "    mantisa = mantisa[:23].ljust(23, '0') \n",
    "    return exponente, sesgo_exponente, mantisa"
   ]
  },
  {
   "cell_type": "markdown",
   "id": "ecd4b237",
   "metadata": {
    "editable": true,
    "slideshow": {
     "slide_type": "subslide"
    },
    "tags": []
   },
   "source": [
    "### Explicación\n",
    "1. **Normalizar el binario**: Se llama a la función normalizar_binario para obtener el exponente y la mantisa.\n",
    "2. **Calcular el exponente con sesgo**: El sesgo para el exponente en IEEE 754 de 32 bits es 127. Para obtenerlo se suma 127 al exponente normalizado.\n",
    "3. **Ajustar la mantisa**: Se ajusta la mantisa a 23 bits, rellenando con ceros a la derecha si es necesario."
   ]
  },
  {
   "cell_type": "markdown",
   "id": "14fc6fba",
   "metadata": {
    "editable": true,
    "slideshow": {
     "slide_type": "subslide"
    },
    "tags": []
   },
   "source": [
    "### Ejemplo\n",
    "- Siguiendo con el ejemplo del -10.75 donde su binario (sin signo) fue 1010.11, obtendremos el exponente y la mantisa."
   ]
  },
  {
   "cell_type": "code",
   "execution_count": 6,
   "id": "908d2793",
   "metadata": {
    "editable": true,
    "slideshow": {
     "slide_type": "subslide"
    },
    "tags": []
   },
   "outputs": [
    {
     "data": {
      "text/plain": [
       "(3, 130, '01011000000000000000000')"
      ]
     },
     "execution_count": 6,
     "metadata": {},
     "output_type": "execute_result"
    }
   ],
   "source": [
    "obtener_exponente_y_mantisa('1010.11')"
   ]
  },
  {
   "cell_type": "markdown",
   "id": "65c31511",
   "metadata": {
    "editable": true,
    "slideshow": {
     "slide_type": "slide"
    },
    "tags": []
   },
   "source": [
    "## Función decimal_a_ieee754\n",
    "\n",
    "Combina todas las funciones anteriores para convertir el número decimal a su representación IEEE 754 de 32 bits."
   ]
  },
  {
   "cell_type": "code",
   "execution_count": 8,
   "id": "9a9d74b0",
   "metadata": {
    "editable": true,
    "slideshow": {
     "slide_type": "subslide"
    },
    "tags": []
   },
   "outputs": [],
   "source": [
    "def decimal_a_ieee754(decimal):\n",
    "    signo, binario = decimal_a_binario(decimal)\n",
    "    exponente, sesgo_exponente, mantisa = obtener_exponente_y_mantisa(binario)\n",
    "    \n",
    "    bit_signo = signo\n",
    "    bits_exponente = format(sesgo_exponente, '08b')\n",
    "    bits_mantisa = mantisa\n",
    "    \n",
    "    ieee754 = f\"{bit_signo}{bits_exponente}{bits_mantisa}\"\n",
    "    return signo, binario, exponente, sesgo_exponente, bits_exponente, bits_mantisa, ieee754"
   ]
  },
  {
   "cell_type": "markdown",
   "id": "4414fb87",
   "metadata": {
    "editable": true,
    "slideshow": {
     "slide_type": "subslide"
    },
    "tags": []
   },
   "source": [
    "### Explicación\n",
    "1. **Convertir decimal a binario**: Se llama a la función decimal_a_binario para obtener el signo y la representación binaria del número sin signo.\n",
    "2. **Obtener el exponente y la mantisa**: Se llama a la función obtener_exponente_y_mantisa para obtener el exponente normalizado, el sesgo del exponente y la mantisa.\n",
    "3. **Convertir exponente y mantisa a binario**: Se convierte el sesgo del exponente a una cadena binaria de 8 bits.\n",
    "4. **Ensamblar la representación IEEE 754**: Se combina el signo, el exponente en binario y la mantisa en una sola cadena para formar la representación final en IEEE 754."
   ]
  },
  {
   "cell_type": "markdown",
   "id": "c356a17a",
   "metadata": {
    "editable": true,
    "slideshow": {
     "slide_type": "subslide"
    },
    "tags": []
   },
   "source": [
    "### Ejemplo\n",
    "- Seguimos con el número -10.75 al tener y al tener todo en conjunto convertimos a IEEE 754."
   ]
  },
  {
   "cell_type": "code",
   "execution_count": 8,
   "id": "81c8a791",
   "metadata": {
    "editable": true,
    "slideshow": {
     "slide_type": "subslide"
    },
    "tags": []
   },
   "outputs": [
    {
     "data": {
      "text/plain": [
       "('1',\n",
       " '1010.11',\n",
       " 3,\n",
       " 130,\n",
       " '10000010',\n",
       " '01011000000000000000000',\n",
       " '11000001001011000000000000000000')"
      ]
     },
     "execution_count": 8,
     "metadata": {},
     "output_type": "execute_result"
    }
   ],
   "source": [
    "decimal_a_ieee754(-10.75)"
   ]
  },
  {
   "cell_type": "markdown",
   "id": "7dacb4bd",
   "metadata": {
    "editable": true,
    "slideshow": {
     "slide_type": "slide"
    },
    "tags": []
   },
   "source": [
    "## Función Principal main\n",
    "\n",
    "Ejecuta el main para que se realice el proceso de conversión y muestra los resultados."
   ]
  },
  {
   "cell_type": "code",
   "execution_count": 9,
   "id": "e4165536",
   "metadata": {
    "editable": true,
    "slideshow": {
     "slide_type": "subslide"
    },
    "tags": []
   },
   "outputs": [
    {
     "name": "stdin",
     "output_type": "stream",
     "text": [
      "Introduce un número decimal (positivo o negativo):  -10.75\n"
     ]
    },
    {
     "name": "stdout",
     "output_type": "stream",
     "text": [
      "Decimal: -10.75\n",
      "Número en binario (sin signo): 1010.11\n",
      "Representación IEEE 754:\n",
      "  Signo: 1\n",
      "  Exponente (sin sesgo): 3\n",
      "  Sesgo del exponente (decimal): 130\n",
      "  Sesgo del exponente (binario): 10000010\n",
      "  Mantisa: 01011000000000000000000\n",
      "  IEEE 754 completo: 11000001001011000000000000000000\n",
      "Equivalente hexadecimal: 0xc12c0000\n"
     ]
    }
   ],
   "source": [
    "def main():\n",
    "    decimal = float(input(\"Introduce un número decimal (positivo o negativo): \"))\n",
    "    if decimal == 0:\n",
    "        print(f\"IEE 754 completo: 00000000000000000000000000000000\")\n",
    "    else:\n",
    "        signo, binario, exponente, sesgo_exponente, bits_exponente, bits_mantisa, ieee754 = decimal_a_ieee754(decimal)\n",
    "        hexadecimal = hex(int(ieee754, 2))\n",
    "        print(f\"Decimal: {decimal}\")\n",
    "        print(f\"Número en binario (sin signo): {binario}\")\n",
    "        print(f\"Representación IEEE 754:\")\n",
    "        print(f\"  Signo: {signo}\")\n",
    "        print(f\"  Exponente (sin sesgo): {exponente}\")\n",
    "        print(f\"  Sesgo del exponente (decimal): {sesgo_exponente}\")\n",
    "        print(f\"  Sesgo del exponente (binario): {bits_exponente}\")\n",
    "        print(f\"  Mantisa: {bits_mantisa}\")\n",
    "        print(f\"  IEEE 754 completo: {ieee754}\")\n",
    "        print(f\"Equivalente hexadecimal: {hexadecimal}\")\n",
    "\n",
    "if __name__ == \"__main__\":\n",
    "    main()"
   ]
  },
  {
   "cell_type": "markdown",
   "id": "8202f3ad",
   "metadata": {
    "editable": true,
    "slideshow": {
     "slide_type": "notes"
    },
    "tags": []
   },
   "source": [
    " ### Finalmente es como se nos muestra cada uno de los literales que se solicitaron para este ejemplo."
   ]
  },
  {
   "cell_type": "code",
   "execution_count": null,
   "id": "ce1cb988-9daa-46a3-9119-419577c9e64e",
   "metadata": {},
   "outputs": [],
   "source": []
  }
 ],
 "metadata": {
  "kernelspec": {
   "display_name": "Python 3 (ipykernel)",
   "language": "python",
   "name": "python3"
  },
  "language_info": {
   "codemirror_mode": {
    "name": "ipython",
    "version": 3
   },
   "file_extension": ".py",
   "mimetype": "text/x-python",
   "name": "python",
   "nbconvert_exporter": "python",
   "pygments_lexer": "ipython3",
   "version": "3.11.9"
  }
 },
 "nbformat": 4,
 "nbformat_minor": 5
}
